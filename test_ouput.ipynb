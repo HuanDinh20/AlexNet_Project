{
 "cells": [
  {
   "cell_type": "code",
   "execution_count": 12,
   "outputs": [],
   "source": [
    "from torch import nn\n",
    "\n",
    "net = nn.Sequential(\n",
    "    nn.Conv2d(in_channels=1, out_channels=96, kernel_size=11, stride=4, padding=1), nn.ReLU(),\n",
    "    nn.MaxPool2d(kernel_size=3, stride=2),\n",
    "    nn.Conv2d(96, 256, kernel_size=5, padding=2), nn.ReLU(),\n",
    "    nn.MaxPool2d(kernel_size=3, stride=2),\n",
    "    nn.Conv2d(256, 384, kernel_size=3, padding=1), nn.ReLU(),\n",
    "    nn.Conv2d(384, 384, kernel_size=3, padding=1), nn.ReLU(),\n",
    "    nn.Conv2d(384, 256, kernel_size=3, padding=1), nn.ReLU(),\n",
    "    nn.MaxPool2d(kernel_size=3, stride=2),\n",
    "    nn.Flatten())"
   ],
   "metadata": {
    "collapsed": false,
    "pycharm": {
     "name": "#%%\n"
    }
   }
  },
  {
   "cell_type": "code",
   "execution_count": 13,
   "outputs": [],
   "source": [
    "import torch\n",
    "x = torch.rand(1, 1, 224, 224)"
   ],
   "metadata": {
    "collapsed": false,
    "pycharm": {
     "name": "#%%\n"
    }
   }
  },
  {
   "cell_type": "code",
   "execution_count": 14,
   "outputs": [
    {
     "data": {
      "text/plain": "torch.Size([1, 6400])"
     },
     "execution_count": 14,
     "metadata": {},
     "output_type": "execute_result"
    }
   ],
   "source": [
    "net(x).shape"
   ],
   "metadata": {
    "collapsed": false,
    "pycharm": {
     "name": "#%%\n"
    }
   }
  },
  {
   "cell_type": "code",
   "execution_count": null,
   "outputs": [],
   "source": [],
   "metadata": {
    "collapsed": false,
    "pycharm": {
     "name": "#%%\n"
    }
   }
  },
  {
   "cell_type": "code",
   "execution_count": 18,
   "outputs": [],
   "source": [
    "class AlexNet(nn.Module):\n",
    "    def __init__(self):\n",
    "        super(AlexNet, self).__init__()\n",
    "        self.net = nn.Sequential(\n",
    "            nn.Conv2d(in_channels=1, out_channels=96, kernel_size=11, stride=4, padding=1), nn.ReLU(),\n",
    "            nn.MaxPool2d(kernel_size=3, stride=2),\n",
    "            nn.Conv2d(96, 256, kernel_size=5, padding=2), nn.ReLU(),\n",
    "            nn.MaxPool2d(kernel_size=3, stride=2),\n",
    "            nn.Conv2d(256, 384, kernel_size=3, padding=1), nn.ReLU(),\n",
    "            nn.Conv2d(384, 384, kernel_size=3, padding=1), nn.ReLU(),\n",
    "            nn.Conv2d(384, 256, kernel_size=3, padding=1), nn.ReLU(),\n",
    "            nn.MaxPool2d(kernel_size=3, stride=2),\n",
    "            nn.Flatten(),\n",
    "            nn.Linear(6400, 4096), nn.ReLU(), nn.Dropout(),\n",
    "            nn.Linear(4096, 4096), nn.ReLU(), nn.Dropout(),\n",
    "            nn.Linear(4096, 10))\n",
    "\n",
    "        self.net.apply(self.init_xavier_uniform)\n",
    "\n",
    "\n",
    "    def forward(self, X):\n",
    "        X = self.net(X)\n",
    "        return X\n",
    "    @staticmethod\n",
    "    def init_xavier_uniform(layer):\n",
    "        if isinstance(layer, (nn.Linear, nn.Conv2d)):\n",
    "            torch.nn.init.xavier_uniform_(layer.weight)\n",
    "            layer.bias.data.fill_(0.0001)\n",
    "\n",
    "    def layer_summary(self, X_shape: tuple):\n",
    "        X = torch.rand(*X_shape)\n",
    "        for layer in self.net:\n",
    "            X = layer(X)\n",
    "            print(layer.__class__.__name__, \"output shape: \", X.shape)"
   ],
   "metadata": {
    "collapsed": false,
    "pycharm": {
     "name": "#%%\n"
    }
   }
  },
  {
   "cell_type": "code",
   "execution_count": 19,
   "outputs": [
    {
     "data": {
      "text/plain": "tensor([[-0.0233, -0.0387, -0.0694, -0.0738,  0.0384, -0.0301, -0.0287,  0.0401,\n         -0.0055,  0.0152]], grad_fn=<AddmmBackward0>)"
     },
     "execution_count": 19,
     "metadata": {},
     "output_type": "execute_result"
    }
   ],
   "source": [
    "model = AlexNet()\n"
   ],
   "metadata": {
    "collapsed": false,
    "pycharm": {
     "name": "#%%\n"
    }
   }
  },
  {
   "cell_type": "code",
   "execution_count": 20,
   "outputs": [],
   "source": [
    "net = nn.Sequential(\n",
    "            nn.Conv2d(in_channels=1, out_channels=96, kernel_size=11, stride=4, padding=1), nn.ReLU(),\n",
    "            nn.MaxPool2d(kernel_size=3, stride=2),\n",
    "            nn.Conv2d(96, 256, kernel_size=5, padding=2), nn.ReLU(),\n",
    "            nn.MaxPool2d(kernel_size=3, stride=2),\n",
    "            nn.Conv2d(256, 384, kernel_size=3, padding=1), nn.ReLU(),\n",
    "            nn.Conv2d(384, 384, kernel_size=3, padding=1), nn.ReLU(),\n",
    "            nn.Conv2d(384, 256, kernel_size=3, padding=1), nn.ReLU(),\n",
    "            nn.MaxPool2d(kernel_size=3, stride=2),\n",
    "            nn.Flatten(),\n",
    "            nn.Linear(6400, 4096), nn.ReLU(), nn.Dropout(),\n",
    "            nn.Linear(4096, 4096), nn.ReLU(), nn.Dropout(),\n",
    "            nn.Linear(4096, 10))"
   ],
   "metadata": {
    "collapsed": false,
    "pycharm": {
     "name": "#%%\n"
    }
   }
  },
  {
   "cell_type": "code",
   "execution_count": 23,
   "outputs": [
    {
     "data": {
      "text/plain": "tensor([[ 0.0007, -0.0140,  0.0054,  0.0057, -0.0039, -0.0107, -0.0064,  0.0188,\n          0.0102, -0.0033]], grad_fn=<AddmmBackward0>)"
     },
     "execution_count": 23,
     "metadata": {},
     "output_type": "execute_result"
    }
   ],
   "source": [
    "net(x)"
   ],
   "metadata": {
    "collapsed": false,
    "pycharm": {
     "name": "#%%\n"
    }
   }
  },
  {
   "cell_type": "code",
   "execution_count": 24,
   "outputs": [
    {
     "data": {
      "text/plain": "tensor([[ 0.0336, -0.0143, -0.0195, -0.0578, -0.0207,  0.0328, -0.0014,  0.0649,\n         -0.0345, -0.0443]], grad_fn=<AddmmBackward0>)"
     },
     "execution_count": 24,
     "metadata": {},
     "output_type": "execute_result"
    }
   ],
   "source": [
    "model(x)"
   ],
   "metadata": {
    "collapsed": false,
    "pycharm": {
     "name": "#%%\n"
    }
   }
  },
  {
   "cell_type": "code",
   "execution_count": 27,
   "outputs": [
    {
     "data": {
      "text/plain": "tensor([[[[ 0.0549,  0.0577,  0.0405,  ...,  0.0178, -0.0257,  0.0711],\n          [-0.0078, -0.0047,  0.0020,  ..., -0.0608,  0.0714, -0.0081],\n          [ 0.0438,  0.0321,  0.0372,  ...,  0.0461,  0.0436,  0.0351],\n          ...,\n          [-0.0222,  0.0543,  0.0836,  ..., -0.0121,  0.0322,  0.0747],\n          [-0.0051, -0.0361,  0.0893,  ...,  0.1227,  0.1030,  0.0811],\n          [ 0.0463,  0.0011,  0.0254,  ...,  0.0138,  0.0866,  0.0090]],\n\n         [[-0.1126, -0.1300, -0.0585,  ..., -0.0973, -0.0884, -0.0572],\n          [-0.0590, -0.0912, -0.0507,  ..., -0.0614, -0.0354, -0.0829],\n          [-0.0940, -0.0944, -0.1065,  ..., -0.0173, -0.0398, -0.1003],\n          ...,\n          [-0.1315, -0.1466, -0.0793,  ..., -0.1010, -0.0771, -0.0887],\n          [-0.0811, -0.0633, -0.1034,  ..., -0.1236, -0.0589, -0.0866],\n          [-0.1783, -0.0023, -0.0791,  ..., -0.0373, -0.2028, -0.0729]],\n\n         [[ 0.0239,  0.0431, -0.0408,  ..., -0.0225, -0.0364, -0.0490],\n          [ 0.0234, -0.0408, -0.0340,  ...,  0.1068,  0.0470, -0.0295],\n          [ 0.0102, -0.0008,  0.0280,  ..., -0.0093,  0.0760, -0.0310],\n          ...,\n          [-0.0293,  0.0743, -0.0510,  ...,  0.0541,  0.0067,  0.0388],\n          [ 0.0228, -0.0790,  0.0357,  ...,  0.0473,  0.0568,  0.0423],\n          [ 0.0870, -0.0261,  0.0748,  ..., -0.0266,  0.0376,  0.0133]],\n\n         ...,\n\n         [[-0.0520,  0.0564,  0.0452,  ...,  0.0174,  0.0371, -0.0399],\n          [-0.0596,  0.0347,  0.0874,  ...,  0.0877,  0.0198,  0.0678],\n          [ 0.0076,  0.0230, -0.0308,  ...,  0.0687,  0.0618,  0.1530],\n          ...,\n          [ 0.0984,  0.0889,  0.0136,  ...,  0.0409, -0.0156,  0.0843],\n          [-0.0070, -0.0107,  0.0542,  ...,  0.0314, -0.0177,  0.0767],\n          [ 0.0024,  0.0739,  0.0674,  ...,  0.0787,  0.0160,  0.0469]],\n\n         [[-0.0608, -0.0309,  0.0052,  ..., -0.0424, -0.0363, -0.0872],\n          [-0.1072, -0.0889, -0.1183,  ..., -0.0188, -0.0680, -0.0418],\n          [ 0.0050, -0.0486, -0.0696,  ...,  0.0281, -0.0115,  0.0237],\n          ...,\n          [-0.0803, -0.0530, -0.0439,  ..., -0.0513, -0.1348, -0.0553],\n          [-0.0604, -0.1031, -0.1246,  ..., -0.0793, -0.0786, -0.0858],\n          [-0.0273, -0.0562, -0.0720,  ..., -0.0587, -0.0948, -0.0280]],\n\n         [[ 0.0652,  0.1288,  0.1691,  ...,  0.1525,  0.1284,  0.1524],\n          [ 0.1787,  0.1621,  0.0851,  ...,  0.1567,  0.2101,  0.2173],\n          [ 0.1473,  0.1417,  0.1109,  ...,  0.1502,  0.2229,  0.2178],\n          ...,\n          [ 0.0964,  0.1963,  0.0850,  ...,  0.1547,  0.0815,  0.1734],\n          [ 0.1566,  0.1492,  0.1709,  ...,  0.1663,  0.1457,  0.0685],\n          [ 0.1778,  0.2040,  0.1458,  ...,  0.1051,  0.1309,  0.2107]]]],\n       grad_fn=<ConvolutionBackward0>)"
     },
     "execution_count": 27,
     "metadata": {},
     "output_type": "execute_result"
    }
   ],
   "source": [
    "model.net[0](x)"
   ],
   "metadata": {
    "collapsed": false,
    "pycharm": {
     "name": "#%%\n"
    }
   }
  },
  {
   "cell_type": "code",
   "execution_count": 29,
   "outputs": [
    {
     "ename": "AttributeError",
     "evalue": "'Tensor' object has no attribute 'bias'",
     "output_type": "error",
     "traceback": [
      "\u001B[1;31m---------------------------------------------------------------------------\u001B[0m",
      "\u001B[1;31mAttributeError\u001B[0m                            Traceback (most recent call last)",
      "Input \u001B[1;32mIn [29]\u001B[0m, in \u001B[0;36m<cell line: 1>\u001B[1;34m()\u001B[0m\n\u001B[1;32m----> 1\u001B[0m \u001B[43mnet\u001B[49m\u001B[43m[\u001B[49m\u001B[38;5;241;43m0\u001B[39;49m\u001B[43m]\u001B[49m\u001B[43m(\u001B[49m\u001B[43mx\u001B[49m\u001B[43m)\u001B[49m\u001B[38;5;241;43m.\u001B[39;49m\u001B[43mbias\u001B[49m\n",
      "\u001B[1;31mAttributeError\u001B[0m: 'Tensor' object has no attribute 'bias'"
     ]
    }
   ],
   "source": [
    "net[0](x).bias"
   ],
   "metadata": {
    "collapsed": false,
    "pycharm": {
     "name": "#%%\n"
    }
   }
  },
  {
   "cell_type": "code",
   "execution_count": null,
   "outputs": [],
   "source": [],
   "metadata": {
    "collapsed": false,
    "pycharm": {
     "name": "#%%\n"
    }
   }
  }
 ],
 "metadata": {
  "kernelspec": {
   "display_name": "Python 3",
   "language": "python",
   "name": "python3"
  },
  "language_info": {
   "codemirror_mode": {
    "name": "ipython",
    "version": 2
   },
   "file_extension": ".py",
   "mimetype": "text/x-python",
   "name": "python",
   "nbconvert_exporter": "python",
   "pygments_lexer": "ipython2",
   "version": "2.7.6"
  }
 },
 "nbformat": 4,
 "nbformat_minor": 0
}